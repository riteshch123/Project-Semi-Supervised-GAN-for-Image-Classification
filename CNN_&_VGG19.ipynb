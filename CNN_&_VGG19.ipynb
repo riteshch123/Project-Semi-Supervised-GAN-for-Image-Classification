{
  "nbformat": 4,
  "nbformat_minor": 0,
  "metadata": {
    "colab": {
      "name": "CNN & VGG19.ipynb",
      "provenance": [],
      "collapsed_sections": [],
      "authorship_tag": "ABX9TyOSaZPO/1g2IZqDc5M8v4Yc",
      "include_colab_link": true
    },
    "kernelspec": {
      "name": "python3",
      "display_name": "Python 3"
    },
    "accelerator": "GPU"
  },
  "cells": [
    {
      "cell_type": "markdown",
      "metadata": {
        "id": "view-in-github",
        "colab_type": "text"
      },
      "source": [
        "<a href=\"https://colab.research.google.com/github/riteshch123/Project-Semi-Supervised-GAN-for-Image-Classification/blob/main/CNN_%26_VGG19.ipynb\" target=\"_parent\"><img src=\"https://colab.research.google.com/assets/colab-badge.svg\" alt=\"Open In Colab\"/></a>"
      ]
    },
    {
      "cell_type": "code",
      "metadata": {
        "id": "8RVdglQ89Vxp",
        "colab": {
          "base_uri": "https://localhost:8080/"
        },
        "outputId": "bda9181a-b16a-4b3f-c549-10a8d081628f"
      },
      "source": [
        "from google.colab import drive\n",
        "drive.mount('/content/drive')"
      ],
      "execution_count": null,
      "outputs": [
        {
          "output_type": "stream",
          "name": "stdout",
          "text": [
            "Drive already mounted at /content/drive; to attempt to forcibly remount, call drive.mount(\"/content/drive\", force_remount=True).\n"
          ]
        }
      ]
    },
    {
      "cell_type": "code",
      "metadata": {
        "id": "GxMFBuCn9dDN",
        "colab": {
          "base_uri": "https://localhost:8080/"
        },
        "outputId": "6cbc2500-5ba4-4395-bd7e-dc9eaad9697f"
      },
      "source": [
        "cd 'drive/My Drive/fashion-mnist-master'"
      ],
      "execution_count": null,
      "outputs": [
        {
          "output_type": "stream",
          "name": "stdout",
          "text": [
            "/content/drive/My Drive/fashion-mnist-master\n"
          ]
        }
      ]
    },
    {
      "cell_type": "code",
      "metadata": {
        "id": "PeUE7l-N94nH",
        "colab": {
          "base_uri": "https://localhost:8080/"
        },
        "outputId": "353492d6-ddbd-4926-ed78-0c4f7d485f33"
      },
      "source": [
        "ls -l"
      ],
      "execution_count": null,
      "outputs": [
        {
          "output_type": "stream",
          "name": "stdout",
          "text": [
            "total 142837\n",
            "-rw------- 1 root root       485 May 22  2020 app.py\n",
            "drwx------ 2 root root      4096 Jun 17  2020 \u001b[0m\u001b[01;34mbenchmark\u001b[0m/\n",
            "-rw------- 1 root root      2705 May 22  2020 configs.py\n",
            "-rw------- 1 root root      1559 May 22  2020 CONTRIBUTING.md\n",
            "drwx------ 2 root root      4096 Jun 17  2020 \u001b[01;34mdata\u001b[0m/\n",
            "drwx------ 2 root root      4096 Jun 17  2020 \u001b[01;34mdoc\u001b[0m/\n",
            "-rw------- 1 root root       401 May 22  2020 Dockerfile\n",
            "-rw------- 1 root root      1109 May 22  2020 LICENSE\n",
            "-rw------- 1 root root        71 May 22  2020 MAINTAINERS\n",
            "-rw------- 1 root root     23551 May 22  2020 README.ja.md\n",
            "-rw------- 1 root root     22028 May 22  2020 README.md\n",
            "-rw------- 1 root root     23034 May 22  2020 README.zh-CN.md\n",
            "-rw------- 1 root root        36 May 22  2020 requirements.txt\n",
            "drwx------ 2 root root      4096 Jun 17  2020 \u001b[01;34mstatic\u001b[0m/\n",
            "-rw------- 1 root root  20880506 Jul 19  2020 test_features.npz\n",
            "-rw------- 1 root root 100224506 Jul 19  2020 train_features.npz\n",
            "drwx------ 2 root root      4096 Jun 17  2020 \u001b[01;34mutils\u001b[0m/\n",
            "-rw------- 1 root root  25056506 Jul 19  2020 val_features.npz\n",
            "drwx------ 2 root root      4096 Jun 17  2020 \u001b[01;34mvisualization\u001b[0m/\n"
          ]
        }
      ]
    },
    {
      "cell_type": "code",
      "metadata": {
        "id": "vNKlWAnP96pg",
        "colab": {
          "base_uri": "https://localhost:8080/"
        },
        "outputId": "61279c4c-fa57-4556-f84e-ae38474557af"
      },
      "source": [
        "import numpy as np\n",
        "import pandas as pd\n",
        "\n",
        "# Input data files are available in the \"data/\" directory.\n",
        "# For example, running this will list the files in the input directory\n",
        "from subprocess import check_output\n",
        "print(check_output([\"ls\", \"data/fashion\"]).decode(\"utf8\"))"
      ],
      "execution_count": null,
      "outputs": [
        {
          "output_type": "stream",
          "name": "stdout",
          "text": [
            "CNN-1Conv.ipynb\n",
            "fashion-mnist_test.csv\n",
            "fashion-mnist_train.csv\n",
            "t10k-images-idx3-ubyte.gz\n",
            "t10k-labels-idx1-ubyte.gz\n",
            "train-images-idx3-ubyte.gz\n",
            "train-labels-idx1-ubyte.gz\n",
            "\n"
          ]
        }
      ]
    },
    {
      "cell_type": "code",
      "metadata": {
        "id": "v3FI04xy-Dhc"
      },
      "source": [
        "# Import libraries\n",
        "from tensorflow.keras.utils import to_categorical\n",
        "from sklearn.model_selection import train_test_split\n",
        "\n",
        "# Load training and test data into dataframes\n",
        "data_train = pd.read_csv('data/fashion/fashion-mnist_train.csv')\n",
        "data_test = pd.read_csv('data/fashion/fashion-mnist_test.csv')"
      ],
      "execution_count": null,
      "outputs": []
    },
    {
      "cell_type": "code",
      "metadata": {
        "id": "YgzPmAaimpWR"
      },
      "source": [
        "# X forms the training images, and y forms the training labels\n",
        "X = np.array(data_train.iloc[:, 1:])\n",
        "y = to_categorical(np.array(data_train.iloc[:, 0]))\n",
        "\n",
        "# Here I split original training data to sub-training (80%) and validation data (20%)\n",
        "X_train, X_val, y_train, y_val = train_test_split(X, y, test_size=0.2, random_state=13)\n",
        "\n",
        "# X_test forms the test images, and y_test forms the test labels\n",
        "X_test = np.array(data_test.iloc[:, 1:])\n",
        "y_test = to_categorical(np.array(data_test.iloc[:, 0]))"
      ],
      "execution_count": null,
      "outputs": []
    },
    {
      "cell_type": "code",
      "metadata": {
        "id": "GEKOySTs_CAl"
      },
      "source": [
        "# Each image's dimension is 28 x 28\n",
        "img_rows, img_cols = 28, 28\n",
        "input_shape = (img_rows, img_cols, 1)\n",
        "\n",
        "# Prepare the training images\n",
        "X_train = X_train.reshape(X_train.shape[0], img_rows, img_cols, 1)\n",
        "X_train = X_train.astype('float32')\n",
        "X_train /= 255\n",
        "\n",
        "# Prepare the test images\n",
        "X_test = X_test.reshape(X_test.shape[0], img_rows, img_cols, 1)\n",
        "X_test = X_test.astype('float32')\n",
        "X_test /= 255\n",
        "\n",
        "# Prepare the validation images\n",
        "X_val = X_val.reshape(X_val.shape[0], img_rows, img_cols, 1)\n",
        "X_val = X_val.astype('float32')\n",
        "X_val /= 255"
      ],
      "execution_count": null,
      "outputs": []
    },
    {
      "cell_type": "markdown",
      "metadata": {
        "id": "z2macm-Hhue9"
      },
      "source": [
        "## 1-Conv CNN"
      ]
    },
    {
      "cell_type": "code",
      "metadata": {
        "id": "Lj3MVlmWcdOq"
      },
      "source": [
        "# Import Keras libraries\n",
        "import keras\n",
        "from keras.models import Sequential\n",
        "from keras.layers import Dense, Dropout, Flatten\n",
        "from keras.layers import Conv2D, MaxPooling2D\n",
        "\n",
        "cnn1 = Sequential()\n",
        "cnn1.add(Conv2D(32, kernel_size=(3, 3), activation='relu', input_shape=input_shape))\n",
        "cnn1.add(MaxPooling2D(pool_size=(2, 2)))\n",
        "cnn1.add(Dropout(0.2))\n",
        "\n",
        "cnn1.add(Flatten())\n",
        "\n",
        "cnn1.add(Dense(128, activation='relu'))\n",
        "cnn1.add(Dense(10, activation='softmax'))"
      ],
      "execution_count": null,
      "outputs": []
    },
    {
      "cell_type": "code",
      "metadata": {
        "id": "763dg_tacslT"
      },
      "source": [
        "cnn1.compile(loss=keras.losses.categorical_crossentropy,\n",
        "              optimizer=keras.optimizers.Adam(),\n",
        "              metrics=['accuracy'])"
      ],
      "execution_count": null,
      "outputs": []
    },
    {
      "cell_type": "code",
      "metadata": {
        "id": "MyUAf_5ScwHz",
        "colab": {
          "base_uri": "https://localhost:8080/",
          "height": 357
        },
        "outputId": "2ae132f9-07fc-410b-f832-67f8b4bf4d4a"
      },
      "source": [
        "cnn1.summary()"
      ],
      "execution_count": null,
      "outputs": [
        {
          "output_type": "stream",
          "text": [
            "Model: \"sequential_1\"\n",
            "_________________________________________________________________\n",
            "Layer (type)                 Output Shape              Param #   \n",
            "=================================================================\n",
            "conv2d_1 (Conv2D)            (None, 26, 26, 32)        320       \n",
            "_________________________________________________________________\n",
            "max_pooling2d_1 (MaxPooling2 (None, 13, 13, 32)        0         \n",
            "_________________________________________________________________\n",
            "dropout_1 (Dropout)          (None, 13, 13, 32)        0         \n",
            "_________________________________________________________________\n",
            "flatten_1 (Flatten)          (None, 5408)              0         \n",
            "_________________________________________________________________\n",
            "dense_1 (Dense)              (None, 128)               692352    \n",
            "_________________________________________________________________\n",
            "dense_2 (Dense)              (None, 10)                1290      \n",
            "=================================================================\n",
            "Total params: 693,962\n",
            "Trainable params: 693,962\n",
            "Non-trainable params: 0\n",
            "_________________________________________________________________\n"
          ],
          "name": "stdout"
        }
      ]
    },
    {
      "cell_type": "code",
      "metadata": {
        "id": "ZK2mSpDacz_j",
        "colab": {
          "base_uri": "https://localhost:8080/",
          "height": 374
        },
        "outputId": "8266f574-be2d-40c8-9628-2bf3cf6be1a0"
      },
      "source": [
        "history1 = cnn1.fit(X_train, y_train,\n",
        "          batch_size=256,\n",
        "          epochs=10,\n",
        "          verbose=1,\n",
        "          validation_data=(X_val, y_val))"
      ],
      "execution_count": null,
      "outputs": [
        {
          "output_type": "stream",
          "text": [
            "Train on 48000 samples, validate on 12000 samples\n",
            "Epoch 1/10\n",
            "48000/48000 [==============================] - 8s 172us/step - loss: 0.5473 - accuracy: 0.8111 - val_loss: 0.3923 - val_accuracy: 0.8662\n",
            "Epoch 2/10\n",
            "48000/48000 [==============================] - 1s 26us/step - loss: 0.3569 - accuracy: 0.8749 - val_loss: 0.3400 - val_accuracy: 0.8823\n",
            "Epoch 3/10\n",
            "48000/48000 [==============================] - 1s 26us/step - loss: 0.3120 - accuracy: 0.8900 - val_loss: 0.3205 - val_accuracy: 0.8838\n",
            "Epoch 4/10\n",
            "48000/48000 [==============================] - 1s 26us/step - loss: 0.2881 - accuracy: 0.8979 - val_loss: 0.3021 - val_accuracy: 0.8913\n",
            "Epoch 5/10\n",
            "48000/48000 [==============================] - 1s 26us/step - loss: 0.2684 - accuracy: 0.9037 - val_loss: 0.2839 - val_accuracy: 0.8984\n",
            "Epoch 6/10\n",
            "48000/48000 [==============================] - 1s 26us/step - loss: 0.2511 - accuracy: 0.9106 - val_loss: 0.2750 - val_accuracy: 0.9011\n",
            "Epoch 7/10\n",
            "48000/48000 [==============================] - 1s 26us/step - loss: 0.2366 - accuracy: 0.9149 - val_loss: 0.2661 - val_accuracy: 0.9055\n",
            "Epoch 8/10\n",
            "48000/48000 [==============================] - 1s 26us/step - loss: 0.2237 - accuracy: 0.9200 - val_loss: 0.2582 - val_accuracy: 0.9074\n",
            "Epoch 9/10\n",
            "48000/48000 [==============================] - 1s 26us/step - loss: 0.2122 - accuracy: 0.9232 - val_loss: 0.2555 - val_accuracy: 0.9081\n",
            "Epoch 10/10\n",
            "48000/48000 [==============================] - 1s 26us/step - loss: 0.2002 - accuracy: 0.9272 - val_loss: 0.2490 - val_accuracy: 0.9121\n"
          ],
          "name": "stdout"
        }
      ]
    },
    {
      "cell_type": "code",
      "metadata": {
        "id": "pamsr277c5TN",
        "colab": {
          "base_uri": "https://localhost:8080/",
          "height": 51
        },
        "outputId": "70a45c1e-4cc7-488c-841a-fc188e415f63"
      },
      "source": [
        "score1 = cnn1.evaluate(X_test, y_test, verbose=0)\n",
        "print('Test loss:', score1[0])\n",
        "print('Test accuracy:', score1[1])"
      ],
      "execution_count": null,
      "outputs": [
        {
          "output_type": "stream",
          "text": [
            "Test loss: 0.24012787722945214\n",
            "Test accuracy: 0.9147999882698059\n"
          ],
          "name": "stdout"
        }
      ]
    },
    {
      "cell_type": "code",
      "metadata": {
        "id": "fD219iN6dlgr",
        "colab": {
          "base_uri": "https://localhost:8080/",
          "height": 476
        },
        "outputId": "f3fce54b-cb5b-462c-8dc9-18fa59ac2d30"
      },
      "source": [
        "from sklearn.metrics import classification_report, confusion_matrix\n",
        "\n",
        "# get the predictions for the test data\n",
        "predicted_classes = cnn1.predict_classes(X_test)\n",
        "\n",
        "# get the indices to be plotted\n",
        "y_true = data_test.iloc[:, 0]\n",
        "target_names = [\"Class {}\".format(i) for i in range(10)]\n",
        "print(classification_report(y_true, predicted_classes, target_names=target_names))\n",
        "print(confusion_matrix(y_true, predicted_classes))"
      ],
      "execution_count": null,
      "outputs": [
        {
          "output_type": "stream",
          "text": [
            "              precision    recall  f1-score   support\n",
            "\n",
            "     Class 0       0.83      0.91      0.87      1000\n",
            "     Class 1       0.99      0.98      0.99      1000\n",
            "     Class 2       0.89      0.86      0.87      1000\n",
            "     Class 3       0.92      0.95      0.93      1000\n",
            "     Class 4       0.89      0.86      0.88      1000\n",
            "     Class 5       0.99      0.96      0.98      1000\n",
            "     Class 6       0.77      0.72      0.75      1000\n",
            "     Class 7       0.96      0.94      0.95      1000\n",
            "     Class 8       0.98      0.98      0.98      1000\n",
            "     Class 9       0.93      0.98      0.95      1000\n",
            "\n",
            "    accuracy                           0.91     10000\n",
            "   macro avg       0.91      0.91      0.91     10000\n",
            "weighted avg       0.91      0.91      0.91     10000\n",
            "\n",
            "[[910   0  10   7   0   0  65   1   7   0]\n",
            " [  3 983   2   9   0   0   3   0   0   0]\n",
            " [ 16   1 858  14  53   0  56   0   2   0]\n",
            " [ 15   6   4 947  12   0  16   0   0   0]\n",
            " [  2   0  38  28 863   0  68   0   1   0]\n",
            " [  0   1   0   0   0 964   0  19   2  14]\n",
            " [151   1  51  25  40   0 723   0   9   0]\n",
            " [  0   0   0   0   0   2   0 937   0  61]\n",
            " [  3   0   2   3   2   2   4   2 980   2]\n",
            " [  0   0   0   0   0   1   0  16   0 983]]\n"
          ],
          "name": "stdout"
        }
      ]
    },
    {
      "cell_type": "code",
      "metadata": {
        "id": "8N_-pfaAetW8",
        "colab": {
          "base_uri": "https://localhost:8080/",
          "height": 336
        },
        "outputId": "b244ff6b-3596-40b0-f4c4-c84313134b63"
      },
      "source": [
        "import seaborn as sns\n",
        "sns.heatmap(confusion_matrix(y_true,predicted_classes),annot=True,fmt=\"d\")"
      ],
      "execution_count": null,
      "outputs": [
        {
          "output_type": "stream",
          "text": [
            "/usr/local/lib/python3.6/dist-packages/statsmodels/tools/_testing.py:19: FutureWarning: pandas.util.testing is deprecated. Use the functions in the public API at pandas.testing instead.\n",
            "  import pandas.util.testing as tm\n"
          ],
          "name": "stderr"
        },
        {
          "output_type": "execute_result",
          "data": {
            "text/plain": [
              "<matplotlib.axes._subplots.AxesSubplot at 0x7f7dea06fdd8>"
            ]
          },
          "metadata": {
            "tags": []
          },
          "execution_count": 14
        },
        {
          "output_type": "display_data",
          "data": {
            "image/png": "[encoded data removed]",
            "text/plain": [
              "<Figure size 432x288 with 2 Axes>"
            ]
          },
          "metadata": {
            "tags": [],
            "needs_background": "light"
          }
        }
      ]
    },
    {
      "cell_type": "markdown",
      "metadata": {
        "id": "3iAEzo7qh2OK"
      },
      "source": [
        "## 3-Conv CNN"
      ]
    },
    {
      "cell_type": "code",
      "metadata": {
        "id": "KqWeSXhrhCmu"
      },
      "source": [
        "cnn3 = Sequential()\n",
        "cnn3.add(Conv2D(32, kernel_size=(3, 3), activation='relu', input_shape=input_shape))\n",
        "cnn3.add(MaxPooling2D((2, 2)))\n",
        "cnn3.add(Dropout(0.25))\n",
        "\n",
        "cnn3.add(Conv2D(64, kernel_size=(3, 3), activation='relu'))\n",
        "cnn3.add(MaxPooling2D(pool_size=(2, 2)))\n",
        "cnn3.add(Dropout(0.25))\n",
        "\n",
        "cnn3.add(Conv2D(128, kernel_size=(3, 3), activation='relu'))\n",
        "cnn3.add(Dropout(0.4))\n",
        "\n",
        "cnn3.add(Flatten())\n",
        "\n",
        "cnn3.add(Dense(128, activation='relu'))\n",
        "cnn3.add(Dropout(0.3))\n",
        "cnn3.add(Dense(10, activation='softmax'))"
      ],
      "execution_count": null,
      "outputs": []
    },
    {
      "cell_type": "code",
      "metadata": {
        "id": "Omky-ccAiBOP",
        "colab": {
          "base_uri": "https://localhost:8080/",
          "height": 561
        },
        "outputId": "58a004de-cb22-400b-dd62-e76213775978"
      },
      "source": [
        "cnn3.compile(loss=keras.losses.categorical_crossentropy,\n",
        "              optimizer=keras.optimizers.Adam(),\n",
        "              metrics=['accuracy'])\n",
        "\n",
        "cnn3.summary()"
      ],
      "execution_count": null,
      "outputs": [
        {
          "output_type": "stream",
          "text": [
            "Model: \"sequential_2\"\n",
            "_________________________________________________________________\n",
            "Layer (type)                 Output Shape              Param #   \n",
            "=================================================================\n",
            "conv2d_2 (Conv2D)            (None, 26, 26, 32)        320       \n",
            "_________________________________________________________________\n",
            "max_pooling2d_2 (MaxPooling2 (None, 13, 13, 32)        0         \n",
            "_________________________________________________________________\n",
            "dropout_2 (Dropout)          (None, 13, 13, 32)        0         \n",
            "_________________________________________________________________\n",
            "conv2d_3 (Conv2D)            (None, 11, 11, 64)        18496     \n",
            "_________________________________________________________________\n",
            "max_pooling2d_3 (MaxPooling2 (None, 5, 5, 64)          0         \n",
            "_________________________________________________________________\n",
            "dropout_3 (Dropout)          (None, 5, 5, 64)          0         \n",
            "_________________________________________________________________\n",
            "conv2d_4 (Conv2D)            (None, 3, 3, 128)         73856     \n",
            "_________________________________________________________________\n",
            "dropout_4 (Dropout)          (None, 3, 3, 128)         0         \n",
            "_________________________________________________________________\n",
            "flatten_2 (Flatten)          (None, 1152)              0         \n",
            "_________________________________________________________________\n",
            "dense_3 (Dense)              (None, 128)               147584    \n",
            "_________________________________________________________________\n",
            "dropout_5 (Dropout)          (None, 128)               0         \n",
            "_________________________________________________________________\n",
            "dense_4 (Dense)              (None, 10)                1290      \n",
            "=================================================================\n",
            "Total params: 241,546\n",
            "Trainable params: 241,546\n",
            "Non-trainable params: 0\n",
            "_________________________________________________________________\n"
          ],
          "name": "stdout"
        }
      ]
    },
    {
      "cell_type": "code",
      "metadata": {
        "id": "rzAoG16LiIKj",
        "colab": {
          "base_uri": "https://localhost:8080/",
          "height": 374
        },
        "outputId": "3b62a352-fde2-43c9-b965-ec846a455867"
      },
      "source": [
        "history3 = cnn3.fit(X_train, y_train,\n",
        "          batch_size=256,\n",
        "          epochs=10,\n",
        "          verbose=1,\n",
        "          validation_data=(X_val, y_val))"
      ],
      "execution_count": null,
      "outputs": [
        {
          "output_type": "stream",
          "text": [
            "Train on 48000 samples, validate on 12000 samples\n",
            "Epoch 1/10\n",
            "48000/48000 [==============================] - 2s 50us/step - loss: 0.8947 - accuracy: 0.6650 - val_loss: 0.5481 - val_accuracy: 0.7957\n",
            "Epoch 2/10\n",
            "48000/48000 [==============================] - 2s 39us/step - loss: 0.5507 - accuracy: 0.7939 - val_loss: 0.4516 - val_accuracy: 0.8253\n",
            "Epoch 3/10\n",
            "48000/48000 [==============================] - 2s 39us/step - loss: 0.4856 - accuracy: 0.8200 - val_loss: 0.4100 - val_accuracy: 0.8468\n",
            "Epoch 4/10\n",
            "48000/48000 [==============================] - 2s 39us/step - loss: 0.4350 - accuracy: 0.8381 - val_loss: 0.3704 - val_accuracy: 0.8657\n",
            "Epoch 5/10\n",
            "48000/48000 [==============================] - 2s 39us/step - loss: 0.4004 - accuracy: 0.8525 - val_loss: 0.3397 - val_accuracy: 0.8762\n",
            "Epoch 6/10\n",
            "48000/48000 [==============================] - 2s 39us/step - loss: 0.3777 - accuracy: 0.8625 - val_loss: 0.3224 - val_accuracy: 0.8827\n",
            "Epoch 7/10\n",
            "48000/48000 [==============================] - 2s 39us/step - loss: 0.3548 - accuracy: 0.8701 - val_loss: 0.3092 - val_accuracy: 0.8862\n",
            "Epoch 8/10\n",
            "48000/48000 [==============================] - 2s 38us/step - loss: 0.3395 - accuracy: 0.8773 - val_loss: 0.3066 - val_accuracy: 0.8903\n",
            "Epoch 9/10\n",
            "48000/48000 [==============================] - 2s 39us/step - loss: 0.3251 - accuracy: 0.8804 - val_loss: 0.2971 - val_accuracy: 0.8924\n",
            "Epoch 10/10\n",
            "48000/48000 [==============================] - 2s 39us/step - loss: 0.3145 - accuracy: 0.8859 - val_loss: 0.2826 - val_accuracy: 0.8995\n"
          ],
          "name": "stdout"
        }
      ]
    },
    {
      "cell_type": "code",
      "metadata": {
        "id": "4LWfH43MiNod",
        "colab": {
          "base_uri": "https://localhost:8080/",
          "height": 51
        },
        "outputId": "b7182ba1-214e-4d61-8b6d-3445b206d571"
      },
      "source": [
        "score3 = cnn3.evaluate(X_test, y_test, verbose=0)\n",
        "print('Test loss:', score3[0])\n",
        "print('Test accuracy:', score3[1])"
      ],
      "execution_count": null,
      "outputs": [
        {
          "output_type": "stream",
          "text": [
            "Test loss: 0.2608607758760452\n",
            "Test accuracy: 0.9047999978065491\n"
          ],
          "name": "stdout"
        }
      ]
    },
    {
      "cell_type": "code",
      "metadata": {
        "id": "97qvDNPGiewD",
        "colab": {
          "base_uri": "https://localhost:8080/",
          "height": 476
        },
        "outputId": "840a80cd-9871-4e56-d6f8-0380c1407c04"
      },
      "source": [
        "# get the predictions for the test data\n",
        "predicted_classes = cnn3.predict_classes(X_test)\n",
        "\n",
        "# get the indices to be plotted\n",
        "y_true = data_test.iloc[:, 0]\n",
        "target_names = [\"Class {}\".format(i) for i in range(10)]\n",
        "print(classification_report(y_true, predicted_classes, target_names=target_names))\n",
        "print(confusion_matrix(y_true, predicted_classes))"
      ],
      "execution_count": null,
      "outputs": [
        {
          "output_type": "stream",
          "text": [
            "              precision    recall  f1-score   support\n",
            "\n",
            "     Class 0       0.84      0.87      0.86      1000\n",
            "     Class 1       0.99      0.98      0.98      1000\n",
            "     Class 2       0.87      0.86      0.86      1000\n",
            "     Class 3       0.93      0.90      0.92      1000\n",
            "     Class 4       0.80      0.90      0.85      1000\n",
            "     Class 5       0.99      0.97      0.98      1000\n",
            "     Class 6       0.75      0.67      0.71      1000\n",
            "     Class 7       0.96      0.94      0.95      1000\n",
            "     Class 8       0.98      0.98      0.98      1000\n",
            "     Class 9       0.94      0.98      0.96      1000\n",
            "\n",
            "    accuracy                           0.90     10000\n",
            "   macro avg       0.90      0.90      0.90     10000\n",
            "weighted avg       0.90      0.90      0.90     10000\n",
            "\n",
            "[[867   1  18  19   3   1  83   0   8   0]\n",
            " [  0 980   1  10   3   1   5   0   0   0]\n",
            " [  7   1 859   7  67   0  52   0   7   0]\n",
            " [ 15   5   9 903  43   0  25   0   0   0]\n",
            " [  0   1  31  16 898   1  52   0   1   0]\n",
            " [  0   0   0   0   0 974   0  17   1   8]\n",
            " [138   1  69  16 102   0 668   0   6   0]\n",
            " [  0   0   0   0   0   8   0 939   0  53]\n",
            " [  0   2   6   0   2   1   6   1 981   1]\n",
            " [  0   0   0   0   0   1   0  19   1 979]]\n"
          ],
          "name": "stdout"
        }
      ]
    },
    {
      "cell_type": "code",
      "metadata": {
        "id": "wBjW7QEKi5qn",
        "colab": {
          "base_uri": "https://localhost:8080/",
          "height": 282
        },
        "outputId": "09add3af-a3ec-4733-914e-e8daacaa0dd2"
      },
      "source": [
        "sns.heatmap(confusion_matrix(y_true,predicted_classes),annot=True,fmt=\"d\")"
      ],
      "execution_count": null,
      "outputs": [
        {
          "output_type": "execute_result",
          "data": {
            "text/plain": [
              "<matplotlib.axes._subplots.AxesSubplot at 0x7f7dea65c4a8>"
            ]
          },
          "metadata": {
            "tags": []
          },
          "execution_count": 20
        },
        {
          "output_type": "display_data",
          "data": {
            "image/png": "[encoded data removed]",
            "text/plain": [
              "<Figure size 432x288 with 2 Axes>"
            ]
          },
          "metadata": {
            "tags": [],
            "needs_background": "light"
          }
        }
      ]
    },
    {
      "cell_type": "markdown",
      "metadata": {
        "id": "jJBNWitMjKiQ"
      },
      "source": [
        "## 4-Conv CNN"
      ]
    },
    {
      "cell_type": "code",
      "metadata": {
        "id": "fcEhelqfjFRi"
      },
      "source": [
        "from keras.layers import Conv2D, MaxPooling2D, BatchNormalization\n",
        "\n",
        "cnn4 = Sequential()\n",
        "cnn4.add(Conv2D(32, kernel_size=(3, 3), activation='relu', input_shape=input_shape))\n",
        "cnn4.add(BatchNormalization())\n",
        "\n",
        "cnn4.add(Conv2D(32, kernel_size=(3, 3), activation='relu'))\n",
        "cnn4.add(BatchNormalization())\n",
        "cnn4.add(MaxPooling2D(pool_size=(2, 2)))\n",
        "cnn4.add(Dropout(0.25))\n",
        "\n",
        "cnn4.add(Conv2D(64, kernel_size=(3, 3), activation='relu'))\n",
        "cnn4.add(BatchNormalization())\n",
        "cnn4.add(Dropout(0.25))\n",
        "\n",
        "cnn4.add(Conv2D(128, kernel_size=(3, 3), activation='relu'))\n",
        "cnn4.add(BatchNormalization())\n",
        "cnn4.add(MaxPooling2D(pool_size=(2, 2)))\n",
        "cnn4.add(Dropout(0.25))\n",
        "\n",
        "cnn4.add(Flatten())\n",
        "\n",
        "cnn4.add(Dense(512, activation='relu'))\n",
        "cnn4.add(BatchNormalization())\n",
        "cnn4.add(Dropout(0.5))\n",
        "\n",
        "cnn4.add(Dense(128, activation='relu'))\n",
        "cnn4.add(BatchNormalization())\n",
        "cnn4.add(Dropout(0.5))\n",
        "\n",
        "cnn4.add(Dense(10, activation='softmax'))"
      ],
      "execution_count": null,
      "outputs": []
    },
    {
      "cell_type": "code",
      "metadata": {
        "id": "ux-9Foevjasx",
        "colab": {
          "base_uri": "https://localhost:8080/",
          "height": 867
        },
        "outputId": "7703db2e-b1a9-4a0d-d518-c79676cab7cd"
      },
      "source": [
        "cnn4.compile(loss=keras.losses.categorical_crossentropy,\n",
        "              optimizer=keras.optimizers.Adam(),\n",
        "              metrics=['accuracy'])\n",
        "\n",
        "cnn4.summary()"
      ],
      "execution_count": null,
      "outputs": [
        {
          "output_type": "stream",
          "text": [
            "Model: \"sequential_3\"\n",
            "_________________________________________________________________\n",
            "Layer (type)                 Output Shape              Param #   \n",
            "=================================================================\n",
            "conv2d_5 (Conv2D)            (None, 26, 26, 32)        320       \n",
            "_________________________________________________________________\n",
            "batch_normalization_1 (Batch (None, 26, 26, 32)        128       \n",
            "_________________________________________________________________\n",
            "conv2d_6 (Conv2D)            (None, 24, 24, 32)        9248      \n",
            "_________________________________________________________________\n",
            "batch_normalization_2 (Batch (None, 24, 24, 32)        128       \n",
            "_________________________________________________________________\n",
            "max_pooling2d_4 (MaxPooling2 (None, 12, 12, 32)        0         \n",
            "_________________________________________________________________\n",
            "dropout_6 (Dropout)          (None, 12, 12, 32)        0         \n",
            "_________________________________________________________________\n",
            "conv2d_7 (Conv2D)            (None, 10, 10, 64)        18496     \n",
            "_________________________________________________________________\n",
            "batch_normalization_3 (Batch (None, 10, 10, 64)        256       \n",
            "_________________________________________________________________\n",
            "dropout_7 (Dropout)          (None, 10, 10, 64)        0         \n",
            "_________________________________________________________________\n",
            "conv2d_8 (Conv2D)            (None, 8, 8, 128)         73856     \n",
            "_________________________________________________________________\n",
            "batch_normalization_4 (Batch (None, 8, 8, 128)         512       \n",
            "_________________________________________________________________\n",
            "max_pooling2d_5 (MaxPooling2 (None, 4, 4, 128)         0         \n",
            "_________________________________________________________________\n",
            "dropout_8 (Dropout)          (None, 4, 4, 128)         0         \n",
            "_________________________________________________________________\n",
            "flatten_3 (Flatten)          (None, 2048)              0         \n",
            "_________________________________________________________________\n",
            "dense_5 (Dense)              (None, 512)               1049088   \n",
            "_________________________________________________________________\n",
            "batch_normalization_5 (Batch (None, 512)               2048      \n",
            "_________________________________________________________________\n",
            "dropout_9 (Dropout)          (None, 512)               0         \n",
            "_________________________________________________________________\n",
            "dense_6 (Dense)              (None, 128)               65664     \n",
            "_________________________________________________________________\n",
            "batch_normalization_6 (Batch (None, 128)               512       \n",
            "_________________________________________________________________\n",
            "dropout_10 (Dropout)         (None, 128)               0         \n",
            "_________________________________________________________________\n",
            "dense_7 (Dense)              (None, 10)                1290      \n",
            "=================================================================\n",
            "Total params: 1,221,546\n",
            "Trainable params: 1,219,754\n",
            "Non-trainable params: 1,792\n",
            "_________________________________________________________________\n"
          ],
          "name": "stdout"
        }
      ]
    },
    {
      "cell_type": "code",
      "metadata": {
        "id": "SaeReTjajqqh",
        "colab": {
          "base_uri": "https://localhost:8080/",
          "height": 374
        },
        "outputId": "6016a169-adee-448f-f8a3-7b7c2c10f1e8"
      },
      "source": [
        "history4 = cnn4.fit(X_train, y_train,\n",
        "          batch_size=256,\n",
        "          epochs=10,\n",
        "          verbose=1,\n",
        "          validation_data=(X_val, y_val))"
      ],
      "execution_count": null,
      "outputs": [
        {
          "output_type": "stream",
          "text": [
            "Train on 48000 samples, validate on 12000 samples\n",
            "Epoch 1/10\n",
            "48000/48000 [==============================] - 8s 169us/step - loss: 0.7500 - accuracy: 0.7417 - val_loss: 3.0290 - val_accuracy: 0.1442\n",
            "Epoch 2/10\n",
            "48000/48000 [==============================] - 7s 138us/step - loss: 0.4365 - accuracy: 0.8441 - val_loss: 1.6783 - val_accuracy: 0.5626\n",
            "Epoch 3/10\n",
            "48000/48000 [==============================] - 7s 139us/step - loss: 0.3616 - accuracy: 0.8718 - val_loss: 0.4747 - val_accuracy: 0.8331\n",
            "Epoch 4/10\n",
            "48000/48000 [==============================] - 7s 138us/step - loss: 0.3277 - accuracy: 0.8837 - val_loss: 0.3225 - val_accuracy: 0.8854\n",
            "Epoch 5/10\n",
            "48000/48000 [==============================] - 7s 138us/step - loss: 0.2999 - accuracy: 0.8923 - val_loss: 0.2704 - val_accuracy: 0.9036\n",
            "Epoch 6/10\n",
            "48000/48000 [==============================] - 7s 139us/step - loss: 0.2786 - accuracy: 0.9004 - val_loss: 0.3039 - val_accuracy: 0.8953\n",
            "Epoch 7/10\n",
            "48000/48000 [==============================] - 7s 139us/step - loss: 0.2653 - accuracy: 0.9039 - val_loss: 0.2562 - val_accuracy: 0.9102\n",
            "Epoch 8/10\n",
            "48000/48000 [==============================] - 7s 139us/step - loss: 0.2509 - accuracy: 0.9094 - val_loss: 0.2359 - val_accuracy: 0.9140\n",
            "Epoch 9/10\n",
            "48000/48000 [==============================] - 7s 140us/step - loss: 0.2421 - accuracy: 0.9127 - val_loss: 0.2309 - val_accuracy: 0.9165\n",
            "Epoch 10/10\n",
            "48000/48000 [==============================] - 7s 141us/step - loss: 0.2342 - accuracy: 0.9148 - val_loss: 0.2567 - val_accuracy: 0.9082\n"
          ],
          "name": "stdout"
        }
      ]
    },
    {
      "cell_type": "code",
      "metadata": {
        "id": "AtNxsh5OjwWK",
        "colab": {
          "base_uri": "https://localhost:8080/",
          "height": 51
        },
        "outputId": "ac90a714-c4b9-4fd0-8dc5-563eca2f5781"
      },
      "source": [
        "score4 = cnn4.evaluate(X_test, y_test, verbose=0)\n",
        "print('Test loss:', score4[0])\n",
        "print('Test accuracy:', score4[1])"
      ],
      "execution_count": null,
      "outputs": [
        {
          "output_type": "stream",
          "text": [
            "Test loss: 0.24785914738178252\n",
            "Test accuracy: 0.9090999960899353\n"
          ],
          "name": "stdout"
        }
      ]
    },
    {
      "cell_type": "code",
      "metadata": {
        "id": "DBQru1Z-kIiE",
        "colab": {
          "base_uri": "https://localhost:8080/",
          "height": 476
        },
        "outputId": "a4759719-3d2d-4c6c-b0c9-ea5d8afad1b8"
      },
      "source": [
        "# get the predictions for the test data\n",
        "predicted_classes = cnn4.predict_classes(X_test)\n",
        "\n",
        "# get the indices to be plotted\n",
        "y_true = data_test.iloc[:, 0]\n",
        "target_names = [\"Class {}\".format(i) for i in range(10)]\n",
        "print(classification_report(y_true, predicted_classes, target_names=target_names))\n",
        "print(confusion_matrix(y_true, predicted_classes))"
      ],
      "execution_count": null,
      "outputs": [
        {
          "output_type": "stream",
          "text": [
            "              precision    recall  f1-score   support\n",
            "\n",
            "     Class 0       0.94      0.76      0.84      1000\n",
            "     Class 1       0.99      0.99      0.99      1000\n",
            "     Class 2       0.94      0.77      0.85      1000\n",
            "     Class 3       0.90      0.94      0.92      1000\n",
            "     Class 4       0.83      0.89      0.86      1000\n",
            "     Class 5       0.99      0.97      0.98      1000\n",
            "     Class 6       0.67      0.86      0.76      1000\n",
            "     Class 7       0.94      0.97      0.96      1000\n",
            "     Class 8       0.99      0.98      0.98      1000\n",
            "     Class 9       0.97      0.96      0.97      1000\n",
            "\n",
            "    accuracy                           0.91     10000\n",
            "   macro avg       0.92      0.91      0.91     10000\n",
            "weighted avg       0.92      0.91      0.91     10000\n",
            "\n",
            "[[757   0  11  32   1   1 193   0   5   0]\n",
            " [  0 990   0   6   2   0   2   0   0   0]\n",
            " [  5   1 768  13 113   0  98   0   2   0]\n",
            " [  4   2   1 938  25   0  30   0   0   0]\n",
            " [  0   0   5  19 891   0  85   0   0   0]\n",
            " [  0   0   0   0   0 968   0  23   1   8]\n",
            " [ 35   3  26  31  37   0 863   0   5   0]\n",
            " [  0   0   0   0   0   2   0 975   0  23]\n",
            " [  1   1   3   3   2   2   8   1 977   2]\n",
            " [  0   0   0   0   0   0   0  36   0 964]]\n"
          ],
          "name": "stdout"
        }
      ]
    },
    {
      "cell_type": "code",
      "metadata": {
        "id": "JXo9l42IkXMb",
        "colab": {
          "base_uri": "https://localhost:8080/",
          "height": 282
        },
        "outputId": "4d13ad13-35eb-4414-a9ec-338c5fac83e3"
      },
      "source": [
        "sns.heatmap(confusion_matrix(y_true,predicted_classes),annot=True,fmt=\"d\")"
      ],
      "execution_count": null,
      "outputs": [
        {
          "output_type": "execute_result",
          "data": {
            "text/plain": [
              "<matplotlib.axes._subplots.AxesSubplot at 0x7f7dad623e80>"
            ]
          },
          "metadata": {
            "tags": []
          },
          "execution_count": 26
        },
        {
          "output_type": "display_data",
          "data": {
            "image/png": "[encoded data removed]",
            "text/plain": [
              "<Figure size 432x288 with 2 Axes>"
            ]
          },
          "metadata": {
            "tags": [],
            "needs_background": "light"
          }
        }
      ]
    },
    {
      "cell_type": "markdown",
      "metadata": {
        "id": "N48X3ENQlQFe"
      },
      "source": [
        "## VGG-19"
      ]
    },
    {
      "cell_type": "code",
      "metadata": {
        "id": "3YpaExOplWOr"
      },
      "source": [
        "# X forms the training images, and y forms the training labels\n",
        "X = np.array(data_train.iloc[:, 1:])\n",
        "y = to_categorical(np.array(data_train.iloc[:, 0]))\n",
        "\n",
        "# X_test forms the test images, and y_test forms the test labels\n",
        "X_test = np.array(data_test.iloc[:, 1:])\n",
        "y_test = to_categorical(np.array(data_test.iloc[:, 0]))"
      ],
      "execution_count": null,
      "outputs": []
    },
    {
      "cell_type": "code",
      "metadata": {
        "id": "IWg5-HoIl2ep",
        "colab": {
          "base_uri": "https://localhost:8080/"
        },
        "outputId": "9afa14c4-6d4b-41f6-d086-e02a515ce95c"
      },
      "source": [
        "# Convert the training and test images into 3 channels\n",
        "X = np.dstack([X] * 3)\n",
        "X_test = np.dstack([X_test]*3)\n",
        "\n",
        "# Display their new shapes\n",
        "X.shape, X_test.shape"
      ],
      "execution_count": null,
      "outputs": [
        {
          "output_type": "execute_result",
          "data": {
            "text/plain": [
              "((60000, 784, 3), (10000, 784, 3))"
            ]
          },
          "metadata": {},
          "execution_count": 9
        }
      ]
    },
    {
      "cell_type": "code",
      "metadata": {
        "id": "Z976GYY3mCz4",
        "colab": {
          "base_uri": "https://localhost:8080/"
        },
        "outputId": "5cbeda9c-b853-4ee1-d825-8d5fb2c3ea15"
      },
      "source": [
        "# Reshape images as per the tensor format required by tensorflow\n",
        "X = X.reshape(-1, 28,28,3)\n",
        "X_test= X_test.reshape (-1,28,28,3)\n",
        "\n",
        "# Display the new shape\n",
        "X.shape, X_test.shape"
      ],
      "execution_count": null,
      "outputs": [
        {
          "output_type": "execute_result",
          "data": {
            "text/plain": [
              "((60000, 28, 28, 3), (10000, 28, 28, 3))"
            ]
          },
          "metadata": {},
          "execution_count": 10
        }
      ]
    },
    {
      "cell_type": "code",
      "metadata": {
        "id": "aFpXEKyRmJwQ"
      },
      "source": [
        "# Resize the images as 150 * 150 as required by VGG19\n",
        "from keras.preprocessing.image import img_to_array, array_to_img\n",
        "\n",
        "X = np.asarray([img_to_array(array_to_img(im, scale=False).resize((96,96))) for im in X])\n",
        "X_test = np.asarray([img_to_array(array_to_img(im, scale=False).resize((96,96))) for im in X_test])\n",
        "\n",
        "# Display the new shape\n",
        "X.shape, X_test.shape"
      ],
      "execution_count": null,
      "outputs": []
    },
    {
      "cell_type": "code",
      "metadata": {
        "id": "guENK-j8mPgX"
      },
      "source": [
        "# Normalise the data and change data type\n",
        "X = X.astype('float32')\n",
        "X /= 255\n",
        "\n",
        "X_test = X_test.astype('float32')\n",
        "X_test /= 255"
      ],
      "execution_count": null,
      "outputs": []
    },
    {
      "cell_type": "code",
      "metadata": {
        "id": "XAqs9b5SrRb7",
        "colab": {
          "base_uri": "https://localhost:8080/",
          "height": 34
        },
        "outputId": "45ed8686-97d6-4679-af62-62e6d40b2af3"
      },
      "source": [
        "from sklearn.model_selection import train_test_split\n",
        "\n",
        "# Here I split original training data to sub-training (80%) and validation data (20%)\n",
        "X_train, X_val, y_train, y_val = train_test_split(X, y, test_size=0.2, random_state=13)\n",
        "\n",
        "# Check the data size whether it is as per tensorflow and VGG19 requirement\n",
        "X_train.shape, X_val.shape, y_train.shape, y_val.shape"
      ],
      "execution_count": null,
      "outputs": [
        {
          "output_type": "execute_result",
          "data": {
            "text/plain": [
              "((48000, 48, 48, 3), (12000, 48, 48, 3), (48000, 10), (12000, 10))"
            ]
          },
          "metadata": {
            "tags": []
          },
          "execution_count": 32
        }
      ]
    },
    {
      "cell_type": "code",
      "metadata": {
        "id": "235AK9ferWWX",
        "colab": {
          "base_uri": "https://localhost:8080/",
          "height": 51
        },
        "outputId": "10d8dced-db25-41c1-eb64-74cccb2b125a"
      },
      "source": [
        "from keras.applications import VGG19\n",
        "\n",
        "# Create the base model of VGG19\n",
        "vgg19 = VGG19(weights='imagenet', include_top=False, input_shape = (48, 48, 3), classes = 10)"
      ],
      "execution_count": null,
      "outputs": [
        {
          "output_type": "stream",
          "text": [
            "Downloading data from https://github.com/fchollet/deep-learning-models/releases/download/v0.1/vgg19_weights_tf_dim_ordering_tf_kernels_notop.h5\n",
            "80142336/80134624 [==============================] - 7s 0us/step\n"
          ],
          "name": "stdout"
        }
      ]
    },
    {
      "cell_type": "code",
      "metadata": {
        "id": "ZHoY5XVprdSf",
        "colab": {
          "base_uri": "https://localhost:8080/",
          "height": 901
        },
        "outputId": "91302f4a-ed8f-4c7e-826f-eed90e8f74ac"
      },
      "source": [
        "vgg19.summary()"
      ],
      "execution_count": null,
      "outputs": [
        {
          "output_type": "stream",
          "text": [
            "Model: \"vgg19\"\n",
            "_________________________________________________________________\n",
            "Layer (type)                 Output Shape              Param #   \n",
            "=================================================================\n",
            "input_1 (InputLayer)         (None, 48, 48, 3)         0         \n",
            "_________________________________________________________________\n",
            "block1_conv1 (Conv2D)        (None, 48, 48, 64)        1792      \n",
            "_________________________________________________________________\n",
            "block1_conv2 (Conv2D)        (None, 48, 48, 64)        36928     \n",
            "_________________________________________________________________\n",
            "block1_pool (MaxPooling2D)   (None, 24, 24, 64)        0         \n",
            "_________________________________________________________________\n",
            "block2_conv1 (Conv2D)        (None, 24, 24, 128)       73856     \n",
            "_________________________________________________________________\n",
            "block2_conv2 (Conv2D)        (None, 24, 24, 128)       147584    \n",
            "_________________________________________________________________\n",
            "block2_pool (MaxPooling2D)   (None, 12, 12, 128)       0         \n",
            "_________________________________________________________________\n",
            "block3_conv1 (Conv2D)        (None, 12, 12, 256)       295168    \n",
            "_________________________________________________________________\n",
            "block3_conv2 (Conv2D)        (None, 12, 12, 256)       590080    \n",
            "_________________________________________________________________\n",
            "block3_conv3 (Conv2D)        (None, 12, 12, 256)       590080    \n",
            "_________________________________________________________________\n",
            "block3_conv4 (Conv2D)        (None, 12, 12, 256)       590080    \n",
            "_________________________________________________________________\n",
            "block3_pool (MaxPooling2D)   (None, 6, 6, 256)         0         \n",
            "_________________________________________________________________\n",
            "block4_conv1 (Conv2D)        (None, 6, 6, 512)         1180160   \n",
            "_________________________________________________________________\n",
            "block4_conv2 (Conv2D)        (None, 6, 6, 512)         2359808   \n",
            "_________________________________________________________________\n",
            "block4_conv3 (Conv2D)        (None, 6, 6, 512)         2359808   \n",
            "_________________________________________________________________\n",
            "block4_conv4 (Conv2D)        (None, 6, 6, 512)         2359808   \n",
            "_________________________________________________________________\n",
            "block4_pool (MaxPooling2D)   (None, 3, 3, 512)         0         \n",
            "_________________________________________________________________\n",
            "block5_conv1 (Conv2D)        (None, 3, 3, 512)         2359808   \n",
            "_________________________________________________________________\n",
            "block5_conv2 (Conv2D)        (None, 3, 3, 512)         2359808   \n",
            "_________________________________________________________________\n",
            "block5_conv3 (Conv2D)        (None, 3, 3, 512)         2359808   \n",
            "_________________________________________________________________\n",
            "block5_conv4 (Conv2D)        (None, 3, 3, 512)         2359808   \n",
            "_________________________________________________________________\n",
            "block5_pool (MaxPooling2D)   (None, 1, 1, 512)         0         \n",
            "=================================================================\n",
            "Total params: 20,024,384\n",
            "Trainable params: 20,024,384\n",
            "Non-trainable params: 0\n",
            "_________________________________________________________________\n"
          ],
          "name": "stdout"
        }
      ]
    },
    {
      "cell_type": "code",
      "metadata": {
        "id": "W6p8sgbKrotK"
      },
      "source": [
        "from keras.applications.vgg19 import preprocess_input\n",
        "\n",
        "# Preprocessing the input \n",
        "X_train = preprocess_input(X_train)\n",
        "X_val = preprocess_input(X_val)\n",
        "X_test = preprocess_input(X_test)"
      ],
      "execution_count": null,
      "outputs": []
    },
    {
      "cell_type": "code",
      "metadata": {
        "id": "VNatJEoHr0wH",
        "colab": {
          "base_uri": "https://localhost:8080/",
          "height": 68
        },
        "outputId": "8e19fb44-45e3-4279-b84a-ddea7531c39d"
      },
      "source": [
        "# Extracting features\n",
        "train_features = vgg19.predict(np.array(X_train), batch_size=256, verbose=1)\n",
        "test_features = vgg19.predict(np.array(X_test), batch_size=256, verbose=1)\n",
        "val_features = vgg19.predict(np.array(X_val), batch_size=256, verbose=1)"
      ],
      "execution_count": null,
      "outputs": [
        {
          "output_type": "stream",
          "text": [
            "48000/48000 [==============================] - 19s 392us/step\n",
            "10000/10000 [==============================] - 4s 379us/step\n",
            "12000/12000 [==============================] - 6s 483us/step\n"
          ],
          "name": "stdout"
        }
      ]
    },
    {
      "cell_type": "code",
      "metadata": {
        "id": "lD5-PEkZr5f5"
      },
      "source": [
        "# Saving the features so that they can be used for future\n",
        "np.savez(\"train_features\", train_features, y_train)\n",
        "np.savez(\"test_features\", test_features, y_test)\n",
        "np.savez(\"val_features\", val_features, y_val)"
      ],
      "execution_count": null,
      "outputs": []
    },
    {
      "cell_type": "code",
      "metadata": {
        "id": "rKftSHYQtI5i",
        "colab": {
          "base_uri": "https://localhost:8080/",
          "height": 68
        },
        "outputId": "e756311c-e841-4acc-b7a9-7c6cd03b83a7"
      },
      "source": [
        "print(train_features.shape, \"\\n\",  test_features.shape, \"\\n\", val_features.shape)"
      ],
      "execution_count": null,
      "outputs": [
        {
          "output_type": "stream",
          "text": [
            "(48000, 1, 1, 512) \n",
            " (10000, 1, 1, 512) \n",
            " (12000, 1, 1, 512)\n"
          ],
          "name": "stdout"
        }
      ]
    },
    {
      "cell_type": "code",
      "metadata": {
        "id": "qzrRLTbutPJr"
      },
      "source": [
        "train_features = np.reshape(train_features, (48000, 1*1*512))\n",
        "test_features = np.reshape(test_features, (10000, 1*1*512))\n",
        "val_features = np.reshape(val_features, (12000, 1*1*512))"
      ],
      "execution_count": null,
      "outputs": []
    },
    {
      "cell_type": "code",
      "metadata": {
        "id": "NAe65NcwtbGp"
      },
      "source": [
        "from keras.layers import Dense, Dropout\n",
        "from keras.models import Model\n",
        "from keras import models\n",
        "from keras import layers\n",
        "from keras import optimizers\n",
        "\n",
        "# Add Dense and Dropout layers on top of VGG19 pre-trained\n",
        "model = models.Sequential()\n",
        "model.add(layers.Dense(512, activation='relu', input_dim = 1 * 1 * 512))\n",
        "model.add(layers.Dropout(0.5))\n",
        "model.add(layers.Dense(10, activation=\"softmax\"))"
      ],
      "execution_count": null,
      "outputs": []
    },
    {
      "cell_type": "code",
      "metadata": {
        "id": "yZMFB94-tioj"
      },
      "source": [
        "import keras\n",
        "\n",
        "model.compile(loss=keras.losses.categorical_crossentropy,\n",
        "              optimizer=keras.optimizers.Adam(),\n",
        "              metrics=['accuracy'])"
      ],
      "execution_count": null,
      "outputs": []
    },
    {
      "cell_type": "code",
      "metadata": {
        "id": "mj5b8K6mtpFM",
        "colab": {
          "base_uri": "https://localhost:8080/",
          "height": 1000
        },
        "outputId": "15b7130c-d63c-4cfc-cebd-dd759fc9518f"
      },
      "source": [
        "history = model.fit(train_features, y_train,\n",
        "          batch_size=256,\n",
        "          epochs=50,\n",
        "          verbose=1,\n",
        "          validation_data=(val_features, y_val))"
      ],
      "execution_count": null,
      "outputs": [
        {
          "output_type": "stream",
          "text": [
            "Train on 48000 samples, validate on 12000 samples\n",
            "Epoch 1/50\n",
            "48000/48000 [==============================] - 1s 17us/step - loss: 2.4586 - accuracy: 0.2699 - val_loss: 1.7403 - val_accuracy: 0.4618\n",
            "Epoch 2/50\n",
            "48000/48000 [==============================] - 1s 15us/step - loss: 1.6365 - accuracy: 0.4152 - val_loss: 1.5089 - val_accuracy: 0.4917\n",
            "Epoch 3/50\n",
            "48000/48000 [==============================] - 1s 15us/step - loss: 1.4772 - accuracy: 0.4704 - val_loss: 1.3685 - val_accuracy: 0.5337\n",
            "Epoch 4/50\n",
            "48000/48000 [==============================] - 1s 15us/step - loss: 1.3886 - accuracy: 0.5040 - val_loss: 1.3156 - val_accuracy: 0.5692\n",
            "Epoch 5/50\n",
            "48000/48000 [==============================] - 1s 15us/step - loss: 1.3165 - accuracy: 0.5277 - val_loss: 1.2476 - val_accuracy: 0.5647\n",
            "Epoch 6/50\n",
            "48000/48000 [==============================] - 1s 15us/step - loss: 1.2703 - accuracy: 0.5427 - val_loss: 1.2133 - val_accuracy: 0.5791\n",
            "Epoch 7/50\n",
            "48000/48000 [==============================] - 1s 15us/step - loss: 1.2269 - accuracy: 0.5598 - val_loss: 1.1633 - val_accuracy: 0.6119\n",
            "Epoch 8/50\n",
            "48000/48000 [==============================] - 1s 15us/step - loss: 1.1927 - accuracy: 0.5697 - val_loss: 1.1140 - val_accuracy: 0.6140\n",
            "Epoch 9/50\n",
            "48000/48000 [==============================] - 1s 15us/step - loss: 1.1573 - accuracy: 0.5853 - val_loss: 1.0872 - val_accuracy: 0.6245\n",
            "Epoch 10/50\n",
            "48000/48000 [==============================] - 1s 18us/step - loss: 1.1344 - accuracy: 0.5924 - val_loss: 1.0773 - val_accuracy: 0.6366\n",
            "Epoch 11/50\n",
            "48000/48000 [==============================] - 1s 19us/step - loss: 1.1216 - accuracy: 0.5984 - val_loss: 1.0458 - val_accuracy: 0.6334\n",
            "Epoch 12/50\n",
            "48000/48000 [==============================] - 1s 15us/step - loss: 1.1073 - accuracy: 0.6004 - val_loss: 1.0413 - val_accuracy: 0.6411\n",
            "Epoch 13/50\n",
            "48000/48000 [==============================] - 1s 15us/step - loss: 1.0962 - accuracy: 0.6064 - val_loss: 1.0321 - val_accuracy: 0.6357\n",
            "Epoch 14/50\n",
            "48000/48000 [==============================] - 1s 15us/step - loss: 1.0858 - accuracy: 0.6085 - val_loss: 0.9844 - val_accuracy: 0.6541\n",
            "Epoch 15/50\n",
            "48000/48000 [==============================] - 1s 15us/step - loss: 1.0729 - accuracy: 0.6133 - val_loss: 0.9826 - val_accuracy: 0.6503\n",
            "Epoch 16/50\n",
            "48000/48000 [==============================] - 1s 15us/step - loss: 1.0667 - accuracy: 0.6137 - val_loss: 0.9734 - val_accuracy: 0.6503\n",
            "Epoch 17/50\n",
            "48000/48000 [==============================] - 1s 15us/step - loss: 1.0506 - accuracy: 0.6224 - val_loss: 0.9548 - val_accuracy: 0.6671\n",
            "Epoch 18/50\n",
            "48000/48000 [==============================] - 1s 15us/step - loss: 1.0450 - accuracy: 0.6245 - val_loss: 0.9729 - val_accuracy: 0.6563\n",
            "Epoch 19/50\n",
            "48000/48000 [==============================] - 1s 15us/step - loss: 1.0366 - accuracy: 0.6251 - val_loss: 0.9747 - val_accuracy: 0.6530\n",
            "Epoch 20/50\n",
            "48000/48000 [==============================] - 1s 15us/step - loss: 1.0375 - accuracy: 0.6281 - val_loss: 0.9405 - val_accuracy: 0.6681\n",
            "Epoch 21/50\n",
            "48000/48000 [==============================] - 1s 15us/step - loss: 1.0338 - accuracy: 0.6264 - val_loss: 0.9615 - val_accuracy: 0.6487\n",
            "Epoch 22/50\n",
            "48000/48000 [==============================] - 1s 15us/step - loss: 1.0318 - accuracy: 0.6266 - val_loss: 0.9270 - val_accuracy: 0.6753\n",
            "Epoch 23/50\n",
            "48000/48000 [==============================] - 1s 15us/step - loss: 1.0221 - accuracy: 0.6321 - val_loss: 0.9364 - val_accuracy: 0.6655\n",
            "Epoch 24/50\n",
            "48000/48000 [==============================] - 1s 15us/step - loss: 1.0199 - accuracy: 0.6329 - val_loss: 0.9358 - val_accuracy: 0.6769\n",
            "Epoch 25/50\n",
            "48000/48000 [==============================] - 1s 15us/step - loss: 1.0198 - accuracy: 0.6310 - val_loss: 0.9294 - val_accuracy: 0.6639\n",
            "Epoch 26/50\n",
            "48000/48000 [==============================] - 1s 15us/step - loss: 1.0206 - accuracy: 0.6342 - val_loss: 0.9496 - val_accuracy: 0.6641\n",
            "Epoch 27/50\n",
            "48000/48000 [==============================] - 1s 15us/step - loss: 1.0215 - accuracy: 0.6324 - val_loss: 0.9238 - val_accuracy: 0.6818\n",
            "Epoch 28/50\n",
            "48000/48000 [==============================] - 1s 15us/step - loss: 1.0098 - accuracy: 0.6370 - val_loss: 0.9336 - val_accuracy: 0.6703\n",
            "Epoch 29/50\n",
            "48000/48000 [==============================] - 1s 15us/step - loss: 1.0133 - accuracy: 0.6338 - val_loss: 0.9153 - val_accuracy: 0.6752\n",
            "Epoch 30/50\n",
            "48000/48000 [==============================] - 1s 15us/step - loss: 1.0030 - accuracy: 0.6404 - val_loss: 0.9153 - val_accuracy: 0.6651\n",
            "Epoch 31/50\n",
            "48000/48000 [==============================] - 1s 15us/step - loss: 0.9943 - accuracy: 0.6412 - val_loss: 0.8974 - val_accuracy: 0.6862\n",
            "Epoch 32/50\n",
            "48000/48000 [==============================] - 1s 15us/step - loss: 1.0008 - accuracy: 0.6422 - val_loss: 0.9006 - val_accuracy: 0.6897\n",
            "Epoch 33/50\n",
            "48000/48000 [==============================] - 1s 15us/step - loss: 1.0075 - accuracy: 0.6381 - val_loss: 0.9135 - val_accuracy: 0.6820\n",
            "Epoch 34/50\n",
            "48000/48000 [==============================] - 1s 15us/step - loss: 1.0158 - accuracy: 0.6355 - val_loss: 0.8996 - val_accuracy: 0.6899\n",
            "Epoch 35/50\n",
            "48000/48000 [==============================] - 1s 14us/step - loss: 1.0073 - accuracy: 0.6371 - val_loss: 0.8751 - val_accuracy: 0.6875\n",
            "Epoch 36/50\n",
            "48000/48000 [==============================] - 1s 15us/step - loss: 1.0032 - accuracy: 0.6357 - val_loss: 0.8791 - val_accuracy: 0.6955\n",
            "Epoch 37/50\n",
            "48000/48000 [==============================] - 1s 15us/step - loss: 1.0010 - accuracy: 0.6389 - val_loss: 0.8923 - val_accuracy: 0.6849\n",
            "Epoch 38/50\n",
            "48000/48000 [==============================] - 1s 15us/step - loss: 1.0033 - accuracy: 0.6391 - val_loss: 0.9163 - val_accuracy: 0.6800\n",
            "Epoch 39/50\n",
            "48000/48000 [==============================] - 1s 15us/step - loss: 0.9967 - accuracy: 0.6446 - val_loss: 0.8683 - val_accuracy: 0.6928\n",
            "Epoch 40/50\n",
            "48000/48000 [==============================] - 1s 15us/step - loss: 0.9909 - accuracy: 0.6425 - val_loss: 0.8879 - val_accuracy: 0.6799\n",
            "Epoch 41/50\n",
            "48000/48000 [==============================] - 1s 15us/step - loss: 0.9894 - accuracy: 0.6420 - val_loss: 0.8788 - val_accuracy: 0.6938\n",
            "Epoch 42/50\n",
            "48000/48000 [==============================] - 1s 14us/step - loss: 0.9911 - accuracy: 0.6425 - val_loss: 0.8701 - val_accuracy: 0.6919\n",
            "Epoch 43/50\n",
            "48000/48000 [==============================] - 1s 15us/step - loss: 1.0073 - accuracy: 0.6346 - val_loss: 0.8840 - val_accuracy: 0.6927\n",
            "Epoch 44/50\n",
            "48000/48000 [==============================] - 1s 15us/step - loss: 0.9973 - accuracy: 0.6390 - val_loss: 0.8805 - val_accuracy: 0.6916\n",
            "Epoch 45/50\n",
            "48000/48000 [==============================] - 1s 15us/step - loss: 0.9989 - accuracy: 0.6359 - val_loss: 0.8844 - val_accuracy: 0.6911\n",
            "Epoch 46/50\n",
            "48000/48000 [==============================] - 1s 15us/step - loss: 0.9946 - accuracy: 0.6417 - val_loss: 0.9013 - val_accuracy: 0.6925\n",
            "Epoch 47/50\n",
            "48000/48000 [==============================] - 1s 15us/step - loss: 0.9842 - accuracy: 0.6419 - val_loss: 0.8668 - val_accuracy: 0.6965\n",
            "Epoch 48/50\n",
            "48000/48000 [==============================] - 1s 15us/step - loss: 0.9927 - accuracy: 0.6415 - val_loss: 0.9004 - val_accuracy: 0.6860\n",
            "Epoch 49/50\n",
            "48000/48000 [==============================] - 1s 15us/step - loss: 1.0140 - accuracy: 0.6327 - val_loss: 0.8872 - val_accuracy: 0.6963\n",
            "Epoch 50/50\n",
            "48000/48000 [==============================] - 1s 15us/step - loss: 1.0018 - accuracy: 0.6394 - val_loss: 0.8887 - val_accuracy: 0.6812\n"
          ],
          "name": "stdout"
        }
      ]
    },
    {
      "cell_type": "code",
      "metadata": {
        "id": "9LJdGjMstxVo",
        "colab": {
          "base_uri": "https://localhost:8080/",
          "height": 51
        },
        "outputId": "95b84f7f-c496-4332-e882-eefc8081f502"
      },
      "source": [
        "score = model.evaluate(test_features, y_test, verbose=0)\n",
        "print('Test loss:', score[0])\n",
        "print('Test accuracy:', score[1])"
      ],
      "execution_count": null,
      "outputs": [
        {
          "output_type": "stream",
          "text": [
            "Test loss: 0.8774007688522338\n",
            "Test accuracy: 0.6868000030517578\n"
          ],
          "name": "stdout"
        }
      ]
    },
    {
      "cell_type": "code",
      "metadata": {
        "id": "DgK9n3ZAuA3O",
        "colab": {
          "base_uri": "https://localhost:8080/",
          "height": 306
        },
        "outputId": "11e86f7f-c5de-422d-fe0c-0754b0f74178"
      },
      "source": [
        "from sklearn.metrics import classification_report\n",
        "predicted_classes = model.predict_classes(test_features)\n",
        "\n",
        "# get the indices to be plotted\n",
        "y_true = data_test.iloc[:, 0]\n",
        "\n",
        "target_names = [\"Class {}\".format(i) for i in range(10)]\n",
        "print(classification_report(y_true, predicted_classes, target_names=target_names))"
      ],
      "execution_count": null,
      "outputs": [
        {
          "output_type": "stream",
          "text": [
            "              precision    recall  f1-score   support\n",
            "\n",
            "     Class 0       0.45      0.82      0.58      1000\n",
            "     Class 1       0.93      0.91      0.92      1000\n",
            "     Class 2       0.56      0.43      0.49      1000\n",
            "     Class 3       0.69      0.74      0.71      1000\n",
            "     Class 4       0.65      0.45      0.53      1000\n",
            "     Class 5       0.85      0.83      0.84      1000\n",
            "     Class 6       0.38      0.33      0.35      1000\n",
            "     Class 7       0.78      0.84      0.81      1000\n",
            "     Class 8       0.88      0.69      0.77      1000\n",
            "     Class 9       0.86      0.84      0.85      1000\n",
            "\n",
            "    accuracy                           0.69     10000\n",
            "   macro avg       0.70      0.69      0.69     10000\n",
            "weighted avg       0.70      0.69      0.69     10000\n",
            "\n"
          ],
          "name": "stdout"
        }
      ]
    },
    {
      "cell_type": "code",
      "metadata": {
        "id": "NCdQbqAUuOtI",
        "colab": {
          "base_uri": "https://localhost:8080/",
          "height": 282
        },
        "outputId": "6dddb778-88e9-438c-87e5-c1cff70e5a26"
      },
      "source": [
        "import seaborn as sns\n",
        "from sklearn.metrics import confusion_matrix\n",
        "sns.heatmap(confusion_matrix(y_true,predicted_classes),annot=True,fmt=\"d\")"
      ],
      "execution_count": null,
      "outputs": [
        {
          "output_type": "execute_result",
          "data": {
            "text/plain": [
              "<matplotlib.axes._subplots.AxesSubplot at 0x7f7dad20e940>"
            ]
          },
          "metadata": {
            "tags": []
          },
          "execution_count": 45
        },
        {
          "output_type": "display_data",
          "data": {
            "image/png": "[encoded data removed]",
            "text/plain": [
              "<Figure size 432x288 with 2 Axes>"
            ]
          },
          "metadata": {
            "tags": [],
            "needs_background": "light"
          }
        }
      ]
    }
  ]
}